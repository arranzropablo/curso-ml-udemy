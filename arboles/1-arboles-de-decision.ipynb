{
 "cells": [
  {
   "cell_type": "markdown",
   "metadata": {},
   "source": [
    "# Arboles de decision\n",
    "\n",
    "Arbol formado por nodos unidos por ramas a partir del nodo raiz.<br>\n",
    "Los últimos nodos del árbol serán los nodos hoja.<br>\n",
    "Cada nodo representa una variable y cada rama un valor posible de esa variable."
   ]
  },
  {
   "cell_type": "markdown",
   "metadata": {},
   "source": [
    "### Entropia\n",
    "\n",
    "Indica la heterogeneidad.\n",
    "\n",
    "$$H(S) = \\sum_{i=1}^{n}{-p_ilog_2(p_i)}$$"
   ]
  },
  {
   "cell_type": "markdown",
   "metadata": {},
   "source": [
    "### Ganancia de información\n",
    "\n",
    "Ganancia de la entropía al añadir una variable (La que tenga mayor ganancia será el nodo que usaremos de raíz y despues cada subnodo del mismo modo).\n",
    "\n",
    "$$ \\Delta H (S, V) = H(S) - \\sum_{c\\in V}{\\frac{\\lvert V = c\\rvert}{\\lvert V \\rvert}H(V = c)} $$"
   ]
  },
  {
   "cell_type": "markdown",
   "metadata": {},
   "source": [
    "# Algoritmo ID3\n",
    "\n",
    "1. Calculamos la entropía inicial del sistema con la variable a predecir.\n",
    "2. Calculamos la ganancia de información para cada variable posible a añadir.\n",
    "3. Añadimos ese nodo como nodo raiz y repetimos el proceso para añadir nodos hijo en cada rama hasta que todos los posibles datos queden clasificados."
   ]
  },
  {
   "cell_type": "code",
   "execution_count": null,
   "metadata": {
    "collapsed": true
   },
   "outputs": [],
   "source": [
    "t"
   ]
  }
 ],
 "metadata": {
  "kernelspec": {
   "display_name": "Python 3",
   "language": "python",
   "name": "python3"
  },
  "language_info": {
   "codemirror_mode": {
    "name": "ipython",
    "version": 3
   },
   "file_extension": ".py",
   "mimetype": "text/x-python",
   "name": "python",
   "nbconvert_exporter": "python",
   "pygments_lexer": "ipython3",
   "version": "3.6.3"
  }
 },
 "nbformat": 4,
 "nbformat_minor": 2
}
