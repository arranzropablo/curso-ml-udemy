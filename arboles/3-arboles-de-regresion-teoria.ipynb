{
 "cells": [
  {
   "cell_type": "markdown",
   "metadata": {},
   "source": [
    "# Árboles de regresión\n",
    "\n",
    "La diferencia frente a los árboles de decisión es que ahora podemos clasificar una variable continua mientras que con los árboles de decisión lo que haciamos era una clasificación.<br><br>\n",
    "\n",
    "Son útiles cuando tenemos algoritmos que interactuan de un modo que no es lineal ni logístico.<br>\n",
    "Esto sería una alternativa a la regresión no lineal.<br><br>\n",
    "\n",
    "Se va haciendo una partición recursiva hasta alcanzar un nivel de profundidad determinado (o la condición que tengamos para parar).<br><br>\n",
    "\n",
    "El valor a predecir para un nodo, será la media de las y de todas las observaciones en dicho nodo.<br><br>\n",
    "\n",
    "- Empezamos con un nodo con todas las observaciones. Calculamos la media de todas y la varianza de la variable objetivo.\n",
    "- Calculamos cuanto se reduce la varianza para todos los posibles candidatos a variable de decisión del siguiente nodo (elegimos la que más reduzca la varianza).\n",
    "- Comprobamos si la reducción de la varianza es menor que un determinado umbral que fijemos.\n",
    "- Comprobamos si el número de observaciones en el nodo es menor que un determinado umbral que fijemos.\n",
    "\n",
    "### Ventajas\n",
    "\n",
    "- Modela relaciones complejas no lineales.\n",
    "- Fácil de entender.\n",
    "- Aunque falte algún atributo en la observación a predecir que nos impida alcanzar un nodo hoja, podemos obtener un valor resultante.\n",
    "- Permite seleccionar los atributos importantes del dataset."
   ]
  }
 ],
 "metadata": {
  "kernelspec": {
   "display_name": "Python 3",
   "language": "python",
   "name": "python3"
  },
  "language_info": {
   "codemirror_mode": {
    "name": "ipython",
    "version": 3
   },
   "file_extension": ".py",
   "mimetype": "text/x-python",
   "name": "python",
   "nbconvert_exporter": "python",
   "pygments_lexer": "ipython3",
   "version": "3.6.3"
  }
 },
 "nbformat": 4,
 "nbformat_minor": 2
}
