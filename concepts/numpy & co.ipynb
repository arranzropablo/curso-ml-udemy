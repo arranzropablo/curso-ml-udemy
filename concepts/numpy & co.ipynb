{
 "cells": [
  {
   "cell_type": "code",
   "execution_count": 2,
   "metadata": {},
   "outputs": [],
   "source": [
    "import numpy as np\n",
    "from scipy import stats"
   ]
  },
  {
   "cell_type": "code",
   "execution_count": 19,
   "metadata": {},
   "outputs": [
    {
     "name": "stdout",
     "output_type": "stream",
     "text": [
      "Mean:  152.82\n",
      "Mean:  152.82\n",
      "Median:  12.0\n",
      "Mode:  6 (occurs 6 times)\n"
     ]
    }
   ],
   "source": [
    "my_array = [1,15,13,5,12,5,1,67,2,4,21,45,6,432,6,14,14,25,6,135,12,3521,66,4,12,6,234,6,2,414,6,31,1,52]\n",
    "\n",
    "#Mean\n",
    "print(\"Mean: \", round(np.mean(my_array), 2))\n",
    "print(\"Mean: \", round(np.average(my_array), 2))\n",
    "\n",
    "#Median\n",
    "print(\"Median: \", round(np.median(my_array), 2))\n",
    "\n",
    "#Mode\n",
    "my_mode = stats.mode(my_array)\n",
    "print(\"Mode: \", my_mode[0][0], \"(occurs\", my_mode[1][0], \"times)\")"
   ]
  },
  {
   "cell_type": "code",
   "execution_count": 21,
   "metadata": {},
   "outputs": [
    {
     "name": "stdout",
     "output_type": "stream",
     "text": [
      "Variance:  354455.85\n",
      "Standard deviation:  595.36\n"
     ]
    }
   ],
   "source": [
    "#Variance\n",
    "print(\"Variance: \", round(np.var(my_array), 2))\n",
    "\n",
    "#Standard deviation ()\n",
    "print(\"Standard deviation: \", round(np.std(my_array), 2))"
   ]
  }
 ],
 "metadata": {
  "kernelspec": {
   "display_name": "Python 3",
   "language": "python",
   "name": "python3"
  },
  "language_info": {
   "codemirror_mode": {
    "name": "ipython",
    "version": 3
   },
   "file_extension": ".py",
   "mimetype": "text/x-python",
   "name": "python",
   "nbconvert_exporter": "python",
   "pygments_lexer": "ipython3",
   "version": "3.7.3"
  }
 },
 "nbformat": 4,
 "nbformat_minor": 4
}
