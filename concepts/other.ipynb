{
 "cells": [
  {
   "cell_type": "markdown",
   "metadata": {},
   "source": [
    "#### [Funnel](https://es.wikipedia.org/wiki/Embudo_de_ventas)\n",
    "Recorrido que hace un cliente en un flujo, para cumplir un objetivo (Por ejemplo, pasos que tiene que tomar en una pagina web para completar una compra)\n",
    "\n",
    "#### [UTM Parameters](https://es.wikipedia.org/wiki/Par%C3%A1metros_UTM)\n",
    "UTM $\\rightarrow$ Urchin Tracking Module\n",
    "\n",
    "Parametros para medir la efectividad de las campañas de marketing.\n",
    "Ejemplos:\n",
    "- utm_source (Origen del trafico)\n",
    "- utm_medium (Tipo de enlace)\n",
    "- utm_campaign (Campaña)\n",
    "- utm_term (Terminos de busqueda)\n",
    "- utm_content (Qué se ha pinchado)"
   ]
  }
 ],
 "metadata": {
  "kernelspec": {
   "display_name": "Python 3",
   "language": "python",
   "name": "python3"
  },
  "language_info": {
   "codemirror_mode": {
    "name": "ipython",
    "version": 3
   },
   "file_extension": ".py",
   "mimetype": "text/x-python",
   "name": "python",
   "nbconvert_exporter": "python",
   "pygments_lexer": "ipython3",
   "version": "3.7.6"
  }
 },
 "nbformat": 4,
 "nbformat_minor": 4
}
