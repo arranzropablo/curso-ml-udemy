{
 "cells": [
  {
   "cell_type": "markdown",
   "metadata": {},
   "source": [
    "# Regresión lineal\n",
    "\n",
    "* Variable(s) predictora(s): Variable de la que siempre disponemos.\n",
    "* Variable de salida: Variable que queremos predecir con nuestro modelo.\n",
    "\n",
    "Por ejemplo, podemos usar la regresión lineal para la predicción del valor de casas\n",
    "\n",
    "$$ y = \\alpha + \\beta \\cdot x $$<br>\n",
    "\n",
    "Siendo y el valor de la casa a estimar y x la superficie conocida de la casa.<br>\n",
    "\n",
    "Obtenidos el valor de $\\alpha$ y $\\beta$ simplemente aplicamos la fórmula y obtenemos la predicción.<br>\n",
    "\n",
    "**Nota: $\\alpha$ y $\\beta$ son lo que yo conozco como $\\theta_i$**<br>\n",
    "\n",
    "#### Como obtenemos los valores de $\\alpha$ y $\\beta$\n",
    "\n",
    "Usando la técnica de mínimos cuadráticos.<br>\n",
    "\n",
    "Se trata de encontrar los valores que consigan minimizar el error, siendo el error la diferencia entre el valor real y el valor estimado con los datos conocidos.\n",
    "\n",
    "$$ min \\sum^{n}_{i=1}{(y_i - (\\alpha + \\beta \\cdot x_i)) ^ 2}$$\n",
    "\n",
    "Con cálculo diferencial podemos obtener que:\n",
    "\n",
    "$$ \\beta = \\frac{Cov(x,y)}{Var(x)} $$<br>\n",
    "$$ \\alpha = \\overline{y} - \\beta \\cdot \\overline{x} $$<br><br>\n",
    "\n",
    "En el **Apendice 1** aparece el proceso de donde vienen estas dos ecuaciones."
   ]
  },
  {
   "cell_type": "markdown",
   "metadata": {
    "collapsed": true
   },
   "source": [
    "También debemos incluir un error $\\varepsilon$ de manera que nuestro modelo será:\n",
    "\n",
    "$$ y = \\alpha + \\beta \\cdot x + \\varepsilon$$<br>\n",
    "\n",
    "Y $\\varepsilon$ seguirá una distribución normal estándar.<br>\n",
    "Si el error pintado no tiene forma de normal significa que nuestro modelo no debería ser lineal.<br>\n",
    "De este modo, para validar un modelo lineal debemos pintar nuestra variable de error y confirmar que se trata de una distribución normal."
   ]
  },
  {
   "cell_type": "markdown",
   "metadata": {},
   "source": [
    "# Apendice 1\n",
    "\n",
    "Estas ecuaciones vienen del siguiente proceso:<br>\n",
    "*Al existir un mínimo, las derivadas respecto de $\\alpha$ y $\\beta$ son 0.*\n",
    "\n",
    "$$ min \\sum^{n}_{i=1}{(y_i - (\\alpha + \\beta \\cdot x_i)) ^ 2} = J(\\alpha, \\beta)$$\n",
    "\n",
    "$$ \\Bigg \\{ \\begin{aligned} \n",
    "    0 = \\frac{\\partial J(\\alpha,\\beta)}{\\partial\\alpha} =  -2 \\cdot \\sum^{n}_{i=1}{(y_i - \\alpha - \\beta x_i)} \\\\\n",
    "    0 = \\frac{\\partial J(\\alpha,\\beta)}{\\partial\\beta} =  -2 \\cdot \\sum^{n}_{i=1}{(y_i - \\alpha - \\beta x_i) \\cdot x_i} \n",
    "   \\end{aligned}$$\n",
    "   \n",
    "   $$=$$\n",
    "   \n",
    "   $$ \\Bigg \\{ \\begin{aligned} \n",
    "    0 = \\frac{\\partial J(\\alpha,\\beta)}{\\partial\\alpha} = \\sum^{n}_{i=1}{y_i - \\alpha - \\beta x_i} \\\\\n",
    "    0 = \\frac{\\partial J(\\alpha,\\beta)}{\\partial\\beta} = \\sum^{n}_{i=1}{(y_i - \\alpha - \\beta x_i) \\cdot x_i} \n",
    "   \\end{aligned}$$\n",
    "   \n",
    "   $$=$$\n",
    "   \n",
    "   $$ \\Bigg \\{ \\begin{aligned} \n",
    "    0 = \\frac{\\partial J(\\alpha,\\beta)}{\\partial\\alpha} = \\sum^{n}_{i=1}{y_i} - n \\alpha - \\beta \\cdot \\sum^{n}_{i=1}{x_i} \\\\\n",
    "    0 = \\frac{\\partial J(\\alpha,\\beta)}{\\partial\\beta} = \\sum^{n}_{i=1}{y_i \\cdot x_i} - \\alpha \\cdot \\sum^{n}_{i=1}{x_i} - \\beta \\cdot \\sum^{n}_{i=1}{x_i^2} \n",
    "   \\end{aligned}$$\n",
    "\n",
    "   $$=$$\n",
    "   \n",
    "   $$ \\Bigg \\{ \\begin{aligned} \n",
    "    \\sum^{n}_{i=1}{y_i} = n\\alpha + \\beta \\sum^{n}_{i=1}{x_i} \\\\\n",
    "    \\sum^{n}_{i=1}{y_i \\cdot x_i} = \\alpha \\cdot \\sum^{n}_{i=1}{x_i} + \\beta \\cdot \\sum^{n}_{i=1}{x_i^2} \n",
    "   \\end{aligned}$$\n",
    "   \n",
    "   $$=$$\n",
    "   \n",
    "   $$ \\Bigg \\{ \\begin{aligned} \n",
    "    \\frac{\\sum^{n}_{i=1}{y_i}}{n} = \\alpha + \\beta \\frac{\\sum^{n}_{i=1}{x_i}}{n} \\rightarrow \\overline{y} = \\alpha + \\beta \\cdot \\overline{x}\\\\\n",
    "    \\sum^{n}_{i=1}{y_i \\cdot x_i} = \\alpha \\cdot \\sum^{n}_{i=1}{x_i} + \\beta \\cdot \\sum^{n}_{i=1}{x_i^2} \n",
    "   \\end{aligned}$$\n",
    "    \n",
    "    Sustituimos alpha en la fórmula de abajo y tras operar y desarrollar \n",
    "    (por motivos de claridad no pongo el desarrollo, pero es simple), quedará:\n",
    "   \n",
    "   $$ \\Bigg \\{ \\begin{aligned} \n",
    "    \\alpha = \\overline{y} - \\beta \\cdot \\overline{x}\\\\\n",
    "    \\beta = \\frac{\\sum{(x_i - \\overline{x})(y_i - \\overline{y})}}{\\sum{(x_i - \\overline{x})^2}} = \\frac{Cov(x,y)}{Var{(x)}}\n",
    "   \\end{aligned}\n",
    "   $$"
   ]
  }
 ],
 "metadata": {
  "kernelspec": {
   "display_name": "Python 3",
   "language": "python",
   "name": "python3"
  },
  "language_info": {
   "codemirror_mode": {
    "name": "ipython",
    "version": 3
   },
   "file_extension": ".py",
   "mimetype": "text/x-python",
   "name": "python",
   "nbconvert_exporter": "python",
   "pygments_lexer": "ipython3",
   "version": "3.6.3"
  }
 },
 "nbformat": 4,
 "nbformat_minor": 2
}
