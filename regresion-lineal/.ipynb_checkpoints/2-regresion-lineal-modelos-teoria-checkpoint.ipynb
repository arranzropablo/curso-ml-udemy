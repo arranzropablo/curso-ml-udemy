{
 "cells": [
  {
   "cell_type": "markdown",
   "metadata": {},
   "source": [
    "# Modelos de regresión lineal (Teoría)"
   ]
  },
  {
   "cell_type": "markdown",
   "metadata": {
    "collapsed": true
   },
   "source": [
    "### Modelo con datos ficticios generados\n",
    "\n",
    "* X: 100 datos --> N(1.5, 2.5)\n",
    "* Yestimada = 5 + 1.9*x + e\n",
    "* e: N(0,0.8)"
   ]
  },
  {
   "cell_type": "code",
   "execution_count": 84,
   "metadata": {
    "collapsed": false
   },
   "outputs": [
    {
     "data": {
      "text/html": [
       "<div>\n",
       "<table border=\"1\" class=\"dataframe\">\n",
       "  <thead>\n",
       "    <tr style=\"text-align: right;\">\n",
       "      <th></th>\n",
       "      <th>X</th>\n",
       "      <th>y</th>\n",
       "      <th>y_pred</th>\n",
       "    </tr>\n",
       "  </thead>\n",
       "  <tbody>\n",
       "    <tr>\n",
       "      <th>0</th>\n",
       "      <td>3.209965</td>\n",
       "      <td>12.167077</td>\n",
       "      <td>11.098933</td>\n",
       "    </tr>\n",
       "    <tr>\n",
       "      <th>1</th>\n",
       "      <td>1.408246</td>\n",
       "      <td>8.332189</td>\n",
       "      <td>7.675668</td>\n",
       "    </tr>\n",
       "    <tr>\n",
       "      <th>2</th>\n",
       "      <td>4.030775</td>\n",
       "      <td>13.290326</td>\n",
       "      <td>12.658473</td>\n",
       "    </tr>\n",
       "    <tr>\n",
       "      <th>3</th>\n",
       "      <td>4.139453</td>\n",
       "      <td>11.639660</td>\n",
       "      <td>12.864960</td>\n",
       "    </tr>\n",
       "    <tr>\n",
       "      <th>4</th>\n",
       "      <td>-0.792908</td>\n",
       "      <td>5.002607</td>\n",
       "      <td>3.493474</td>\n",
       "    </tr>\n",
       "  </tbody>\n",
       "</table>\n",
       "</div>"
      ],
      "text/plain": [
       "          X          y     y_pred\n",
       "0  3.209965  12.167077  11.098933\n",
       "1  1.408246   8.332189   7.675668\n",
       "2  4.030775  13.290326  12.658473\n",
       "3  4.139453  11.639660  12.864960\n",
       "4 -0.792908   5.002607   3.493474"
      ]
     },
     "execution_count": 84,
     "metadata": {},
     "output_type": "execute_result"
    }
   ],
   "source": [
    "import pandas as pd\n",
    "import numpy as np\n",
    "\n",
    "x = 1.5 + 2.5*np.random.randn(100)\n",
    "error = 0 + 0.8*np.random.randn(100)\n",
    "\n",
    "y_pred = 5 + 1.9*x #Esto sería el modelo obtenido\n",
    "y_real = 5 + 1.9*x + error #Esto serían los datos reales, que no se ajustan exactamente a la recta\n",
    "\n",
    "data = pd.DataFrame({\n",
    "    \"X\": x,\n",
    "    \"y\": y_real,\n",
    "    \"y_pred\": y_pred\n",
    "})\n",
    "\n",
    "data.head()"
   ]
  },
  {
   "cell_type": "code",
   "execution_count": 85,
   "metadata": {
    "collapsed": false
   },
   "outputs": [
    {
     "data": {
      "text/plain": [
       "<matplotlib.legend.Legend at 0x11ac2fe80>"
      ]
     },
     "execution_count": 85,
     "metadata": {},
     "output_type": "execute_result"
    },
    {
     "data": {
      "image/png": "[encoded data removed]",
      "text/plain": [
       "<matplotlib.figure.Figure at 0x11a980a58>"
      ]
     },
     "metadata": {},
     "output_type": "display_data"
    }
   ],
   "source": [
    "import matplotlib.pyplot as plt\n",
    "%matplotlib inline\n",
    "\n",
    "plt.scatter(data[\"X\"],data[\"y\"])\n",
    "plt.plot(data[\"X\"],data[\"y_pred\"], color=\"red\")\n",
    "plt.legend()"
   ]
  },
  {
   "cell_type": "code",
   "execution_count": 86,
   "metadata": {
    "collapsed": false
   },
   "outputs": [
    {
     "data": {
      "text/plain": [
       "(array([  1.,  10.,   8.,  28.,  24.,  16.,   8.,   3.,   1.,   1.]),\n",
       " array([-2.23712574, -1.72302114, -1.20891654, -0.69481194, -0.18070734,\n",
       "         0.33339726,  0.84750186,  1.36160646,  1.87571106,  2.38981566,\n",
       "         2.90392026]),\n",
       " <a list of 10 Patch objects>)"
      ]
     },
     "execution_count": 86,
     "metadata": {},
     "output_type": "execute_result"
    },
    {
     "data": {
      "image/png": "[encoded data removed]",
      "text/plain": [
       "<matplotlib.figure.Figure at 0x11a40f940>"
      ]
     },
     "metadata": {},
     "output_type": "display_data"
    }
   ],
   "source": [
    "#Podemos ver que los errores se distribuyen según una normal\n",
    "plt.hist(error)"
   ]
  },
  {
   "cell_type": "code",
   "execution_count": 87,
   "metadata": {
    "collapsed": false
   },
   "outputs": [
    {
     "data": {
      "text/plain": [
       "<matplotlib.legend.Legend at 0x11ae90f60>"
      ]
     },
     "execution_count": 87,
     "metadata": {},
     "output_type": "execute_result"
    },
    {
     "data": {
      "image/png": "[encoded data removed]",
      "text/plain": [
       "<matplotlib.figure.Figure at 0x11ac91c18>"
      ]
     },
     "metadata": {},
     "output_type": "display_data"
    }
   ],
   "source": [
    "#Pintamos el promedio de los valores de y\n",
    "y_mean = [y_real.mean() for i in range(0,len(x))]\n",
    "plt.scatter(data[\"X\"],data[\"y\"])\n",
    "plt.plot(data[\"X\"],data[\"y_pred\"], color=\"red\")\n",
    "plt.plot(data[\"X\"],y_mean, color=\"orange\")\n",
    "plt.legend()"
   ]
  },
  {
   "cell_type": "markdown",
   "metadata": {},
   "source": [
    "La distancia de un punto al modelo en vertical es la SSD.<br>\n",
    "La distancia de un punto a la media en vertical es la SST.<br>\n",
    "La distancia de la y_pred a la media en vertical es la SSR.<br>\n",
    "\n",
    "**Todas estas distancias van al cuadrado**<br>\n",
    "\n",
    "SST = SSD + SSR (Del punto hacia abajo se coge el valor negativo y del punto hacia arriba positivo)<br>\n",
    "Lo importante es que SSD sea pequeño, lo que implica que buscamos que SSR sea lo más cercano a SST.<br>\n",
    "\n",
    "$R^2 = \\frac{SSR}{SST}$ nos indicará lo bueno que es nuestro modelo (cuando más cercano a 1, mejor)"
   ]
  },
  {
   "cell_type": "code",
   "execution_count": 97,
   "metadata": {
    "collapsed": false
   },
   "outputs": [
    {
     "name": "stdout",
     "output_type": "stream",
     "text": [
      "2239.35427484 = 2072.06086255 + 72.2298329955\n",
      "2144.29069554\n"
     ]
    }
   ],
   "source": [
    "SSD = sum((data[\"y\"] - data[\"y_pred\"])**2)\n",
    "SSR = sum((data[\"y_pred\"] - y_real.mean())**2)\n",
    "SST = sum((data[\"y\"] - y_real.mean())**2)\n",
    "\n",
    "\n",
    "print(SST, \"=\", SSR, \"+\", SSD)\n",
    "print(SSR + SSD)\n",
    "\n",
    "#No da exactamente igual por redondeo, en vez de eso calculamos mejor SST y SSR y hacemos SSD = SST - SSR"
   ]
  },
  {
   "cell_type": "code",
   "execution_count": 106,
   "metadata": {
    "collapsed": false
   },
   "outputs": [
    {
     "data": {
      "text/plain": [
       "0.92529390540193046"
      ]
     },
     "execution_count": 106,
     "metadata": {},
     "output_type": "execute_result"
    }
   ],
   "source": [
    "r2 = SSR / SST\n",
    "r2"
   ]
  },
  {
   "cell_type": "markdown",
   "metadata": {},
   "source": [
    "### Obteniendo los valores de $\\alpha$ y $\\beta$\n",
    "\n",
    "Recordamos:\n",
    "\n",
    "$$ \\alpha = \\overline{y} - \\beta \\cdot \\overline{x} $$<br>\n",
    "$$ \\beta = \\frac{Cov(x,y)}{Var(x)} $$<br>"
   ]
  },
  {
   "cell_type": "code",
   "execution_count": 120,
   "metadata": {
    "collapsed": false
   },
   "outputs": [
    {
     "data": {
      "text/plain": [
       "(4.8420353935753733, 1.9634970887306005)"
      ]
     },
     "execution_count": 120,
     "metadata": {},
     "output_type": "execute_result"
    }
   ],
   "source": [
    "beta = np.cov(data[\"X\"], data[\"y\"])[0][1] / np.var(data[\"X\"])\n",
    "\n",
    "#De forma mas \"manual\"\n",
    "#beta2 = sum((data[\"X\"] - data[\"X\"].mean()) * (data[\"y\"] - data[\"y\"].mean()))/sum((data[\"X\"] - data[\"X\"].mean())**2)\n",
    "\n",
    "alpha = data[\"y\"].mean() - beta * data[\"X\"].mean()\n",
    "\n",
    "alpha, beta"
   ]
  },
  {
   "cell_type": "code",
   "execution_count": 130,
   "metadata": {
    "collapsed": false
   },
   "outputs": [
    {
     "data": {
      "text/plain": [
       "<matplotlib.legend.Legend at 0x11b8dc940>"
      ]
     },
     "execution_count": 130,
     "metadata": {},
     "output_type": "execute_result"
    },
    {
     "data": {
      "image/png": "[encoded data removed]",
      "text/plain": [
       "<matplotlib.figure.Figure at 0x11adf0710>"
      ]
     },
     "metadata": {},
     "output_type": "display_data"
    }
   ],
   "source": [
    "import matplotlib.pyplot as plt\n",
    "%matplotlib inline\n",
    "\n",
    "data[\"y_model\"] = (alpha + beta * data[\"X\"])\n",
    "\n",
    "\n",
    "plt.scatter(data[\"X\"],data[\"y\"])\n",
    "plt.plot(data[\"X\"], data[\"y_model\"], color=\"g\")\n",
    "plt.plot(data[\"X\"], data[\"y_pred\"], color=\"r\")\n",
    "plt.legend()"
   ]
  },
  {
   "cell_type": "code",
   "execution_count": 131,
   "metadata": {
    "collapsed": false
   },
   "outputs": [
    {
     "name": "stdout",
     "output_type": "stream",
     "text": [
      "2239.35427484 = 2212.55396166 + 71.0513924148\n",
      "2283.60535407\n",
      "\n",
      "r2: 0.988032124491\n"
     ]
    }
   ],
   "source": [
    "SSD = sum((data[\"y\"] - (alpha + beta * data[\"X\"]))**2)\n",
    "SSR = sum(((alpha + beta * data[\"X\"]) - y_real.mean())**2)\n",
    "SST = sum((data[\"y\"] - y_real.mean())**2)\n",
    "\n",
    "\n",
    "print(SST, \"=\", SSR, \"+\", SSD)\n",
    "print(SSR + SSD)\n",
    "\n",
    "r2 = SSR / SST\n",
    "print(\"\\nr2:\", r2)"
   ]
  },
  {
   "cell_type": "markdown",
   "metadata": {},
   "source": [
    "### Interpretación de los parámetros $\\alpha$ y $\\beta$\n",
    "\n",
    "Hacemos un contraste de hipótesis para ver si $\\beta$ tiende a ser 0. Si es muy cercana a 0 es que no está muy relacionada con X.\n",
    "\n",
    "$$\n",
    "    \\Bigg \\{\n",
    "    \\begin{aligned}\n",
    "        H_0: \\beta = 0 \\\\\n",
    "        H_1: \\beta \\neq 0\n",
    "    \\end{aligned}\n",
    "$$\n",
    "\n",
    "En el caso de una regresión lineal múltiple donde existirán varias $\\beta$ plantearemos además si:\n",
    "\n",
    "$$\n",
    "    \\Bigg \\{\n",
    "    \\begin{aligned}\n",
    "        H_0: \\beta_1 = \\beta_2 = ... = \\beta_k = 0 \\\\\n",
    "        H_1: \\beta_i \\neq 0 \\text{ para algún i} \n",
    "    \\end{aligned}\n",
    "$$\n",
    "\n",
    "Para esto se calcula el valor F:\n",
    "\n",
    "$$\n",
    "    F = \\frac{\\frac{SSR}{k}}{\\frac{SSD}{n - k - 1}}\n",
    "$$\n",
    "\n",
    "Siendo k el número de $\\beta$ y n el número de filas. De este modo:\n",
    "\n",
    "$$\n",
    "    \\text{p-valor} = P(F > F_{k,n-k-1})\n",
    "$$\n",
    "\n",
    "Y si el p-valor es menor al nivel de significación según la distribución F de fisher la hipótesis nula puede ser rechazada.<br><br>\n",
    "\n",
    "La primera comprobación en caso de varias variables predictoras puede no tener sentido ya que la importancia de una variable predictora puede cambiar en presencia de otras."
   ]
  },
  {
   "cell_type": "markdown",
   "metadata": {},
   "source": [
    "### Error estándar residual\n",
    "\n",
    "Es la desviación estándar del error.\n",
    "\n",
    "n = número de filas\n",
    "\n",
    "$$\n",
    "    RSE = \\sqrt{\\frac{SSD}{n - 2}}\n",
    "$$\n",
    "\n",
    "Si es regresión lineal múltiple (k = variables predictoras):\n",
    "\n",
    "$$\n",
    "    RSE = \\sqrt{\\frac{SSD}{n - k - 1}}\n",
    "$$"
   ]
  },
  {
   "cell_type": "code",
   "execution_count": 133,
   "metadata": {
    "collapsed": false
   },
   "outputs": [
    {
     "data": {
      "text/plain": [
       "0.85147766166513583"
      ]
     },
     "execution_count": 133,
     "metadata": {},
     "output_type": "execute_result"
    }
   ],
   "source": [
    "#Cuanto menor sea mejor es el modelo\n",
    "RSE = np.sqrt(SSD / (data.shape[0] - 2))\n",
    "RSE"
   ]
  }
 ],
 "metadata": {
  "kernelspec": {
   "display_name": "Python 3",
   "language": "python",
   "name": "python3"
  },
  "language_info": {
   "codemirror_mode": {
    "name": "ipython",
    "version": 3
   },
   "file_extension": ".py",
   "mimetype": "text/x-python",
   "name": "python",
   "nbconvert_exporter": "python",
   "pygments_lexer": "ipython3",
   "version": "3.6.3"
  }
 },
 "nbformat": 4,
 "nbformat_minor": 2
}
