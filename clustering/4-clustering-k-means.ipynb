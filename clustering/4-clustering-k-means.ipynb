{
 "cells": [
  {
   "cell_type": "markdown",
   "metadata": {},
   "source": [
    "# K-means\n",
    "\n",
    "Tenemos que definir el número de clusters a priori"
   ]
  },
  {
   "cell_type": "markdown",
   "metadata": {},
   "source": [
    "Elegimos k clusters basándonos en lo que creamos necesario e inicializamos sus centroides (de manera aleatoria o siguiendo algún criterio...).<br>\n",
    "A continuación asignamos cada punto del dataset al cluster cuyo centroide sea más cercano.\n",
    "Luego recalculariamos los clusters y volveriamos al paso anterior (hasta que ningún punto sea reasignado a otro cluster).<br>\n",
    "El objetivo es minimizar las distancias intracluster:\n",
    "\n",
    "$$ SS_w(C_j) = \\sum_{x \\in C_j}{(x - c_j) ^ 2} $$\n",
    "\n",
    "También podemos usar la distancia intracluster normalizada:\n",
    "\n",
    "$$ S\\widetilde{S}_w(C_j) = \\sum_{j = 1}^{k}{\\frac{SS_W(C_j)}{SS_T}} $$\n",
    "\n",
    "donde\n",
    "\n",
    "$$ SS_T = \\sum_{i = 1}^{n}{(x_i - \\overline{x})^2} $$"
   ]
  },
  {
   "cell_type": "code",
   "execution_count": 7,
   "metadata": {
    "collapsed": false
   },
   "outputs": [
    {
     "data": {
      "text/plain": [
       "array([[  4.32679726e-01,  -2.99256015e-01,  -1.29067553e+00],\n",
       "       [ -7.88202014e-01,  -7.06723976e-01,   1.30410309e-02],\n",
       "       [ -8.01814247e-01,  -2.13703434e-01,   4.85374371e-01],\n",
       "       [  1.64116505e-01,  -1.21603191e+00,   9.43688470e-01],\n",
       "       [ -5.32190003e-01,  -2.13987365e+00,  -1.34398275e+00],\n",
       "       [ -8.25105514e-01,  -5.12209770e-01,  -1.20441678e+00],\n",
       "       [  3.06395364e-01,  -6.47702632e-01,   8.22542487e-01],\n",
       "       [  1.43004178e+00,  -1.16751975e+00,   1.11338154e+00],\n",
       "       [  3.31917457e-01,  -6.42323466e-01,  -3.29338743e-01],\n",
       "       [  7.18338601e-01,  -2.33472267e-01,   1.27524296e-01],\n",
       "       [ -2.62174382e-02,  -1.92659715e-01,  -1.73952602e+00],\n",
       "       [ -2.25425651e+00,   1.90291330e-01,   2.69114236e+00],\n",
       "       [  2.06976571e+00,  -5.60469635e-01,  -1.33819118e+00],\n",
       "       [ -2.56569356e+00,   8.91670735e-01,   6.97717576e-01],\n",
       "       [  2.97785083e-01,   2.69580342e-01,   8.52806685e-03],\n",
       "       [  2.01970888e+00,  -1.33786019e-01,  -7.88491375e-01],\n",
       "       [ -3.05728440e-01,  -2.32730866e+00,   1.84965072e+00],\n",
       "       [ -9.28229601e-01,  -1.34864677e+00,  -7.81690807e-01],\n",
       "       [  7.83545708e-01,  -2.23456109e+00,  -2.27577881e-01],\n",
       "       [ -8.90578830e-01,   1.26343086e-01,  -5.43878293e-01],\n",
       "       [  6.99696825e-01,  -1.74385810e+00,  -1.07729113e+00],\n",
       "       [ -1.34539482e-01,   1.20834582e+00,  -6.67981017e-01],\n",
       "       [  6.89748334e-01,  -1.11546520e+00,  -8.45244130e-01],\n",
       "       [  4.18102394e-01,  -5.71679965e-01,   1.71605400e+00],\n",
       "       [ -1.65617387e+00,  -5.60375922e-01,   1.45049271e+00],\n",
       "       [ -1.18927981e+00,   2.50579338e-01,  -3.14243272e+00],\n",
       "       [  9.96687545e-04,  -2.85907091e-01,  -5.57207163e-01],\n",
       "       [  1.56550615e+00,   3.92167929e-01,  -5.48699905e-01],\n",
       "       [ -2.51366650e-01,  -5.57002259e-01,   5.20760493e-01],\n",
       "       [ -6.49646083e-01,  -1.38395794e+00,  -4.93259152e-01]])"
      ]
     },
     "execution_count": 7,
     "metadata": {},
     "output_type": "execute_result"
    }
   ],
   "source": [
    "import numpy as np\n",
    "\n",
    "data = np.random.randn(90).reshape(30, 3)\n",
    "data"
   ]
  },
  {
   "cell_type": "code",
   "execution_count": 49,
   "metadata": {
    "collapsed": false
   },
   "outputs": [
    {
     "data": {
      "text/plain": [
       "array([[ 0.78354571, -2.23456109, -0.22757788],\n",
       "       [-0.82510551, -0.51220977, -1.20441678]])"
      ]
     },
     "execution_count": 49,
     "metadata": {},
     "output_type": "execute_result"
    }
   ],
   "source": [
    "#Decidimos que haya 2 clusters por ejemplo y elegimos aleatoriamente sus coordenadas\n",
    "c1 = np.random.choice(range(len(data)))\n",
    "c2 = np.random.choice(range(len(data)))\n",
    "centers = np.vstack([data[c1], data[c2]])\n",
    "centers"
   ]
  },
  {
   "cell_type": "code",
   "execution_count": 50,
   "metadata": {
    "collapsed": false
   },
   "outputs": [
    {
     "data": {
      "text/plain": [
       "(array([1, 1, 1, 0, 1, 1, 0, 0, 1, 0, 1, 1, 0, 1, 1, 0, 0, 1, 0, 1, 0, 1, 0,\n",
       "        0, 1, 1, 1, 1, 1, 1], dtype=int32),\n",
       " array([ 1.27859829,  1.23345092,  1.71611266,  1.67121485,  1.65968909,\n",
       "         0.        ,  1.96177089,  1.83158581,  1.45650036,  2.03339765,\n",
       "         1.01325036,  4.20848683,  2.38545719,  2.93575243,  1.82847321,\n",
       "         2.50119556,  2.34733869,  0.94284606,  0.        ,  0.92105787,\n",
       "         0.98480083,  1.93001459,  1.2816728 ,  2.58387835,  2.78236212,\n",
       "         2.11432635,  1.07356324,  2.63872844,  1.81863115,  1.13862903]))"
      ]
     },
     "execution_count": 50,
     "metadata": {},
     "output_type": "execute_result"
    }
   ],
   "source": [
    "from scipy.cluster.vq import vq\n",
    "\n",
    "vq(data, centers)\n",
    "#Esta función dados unos centros dice a que cluster pertenece cada punto \n",
    "#y la distancia intracluster entre los puntos y centros"
   ]
  },
  {
   "cell_type": "code",
   "execution_count": 52,
   "metadata": {
    "collapsed": false
   },
   "outputs": [
    {
     "data": {
      "text/plain": [
       "(array([[ 0.83778117, -0.93861621,  0.10907747],\n",
       "        [-0.75069601, -0.30961799, -0.3469408 ]]), 1.4527224451794629)"
      ]
     },
     "execution_count": 52,
     "metadata": {},
     "output_type": "execute_result"
    }
   ],
   "source": [
    "from scipy.cluster.vq import kmeans\n",
    "\n",
    "kmeans(data, centers)\n",
    "#Esto calcula los centros y el ultimo número indica la suma de los cuadrados"
   ]
  },
  {
   "cell_type": "code",
   "execution_count": 53,
   "metadata": {
    "collapsed": false
   },
   "outputs": [
    {
     "data": {
      "text/plain": [
       "(array([[ 0.23336328, -0.55681212, -0.88335959],\n",
       "        [-0.57314357, -0.62600786,  1.11853143]]), 1.3833375988817094)"
      ]
     },
     "execution_count": 53,
     "metadata": {},
     "output_type": "execute_result"
    }
   ],
   "source": [
    "#En lugar de inicializar los centros podemos simplemente decirle el número de clusters que queremos\n",
    "kmeans(data, 2)"
   ]
  }
 ],
 "metadata": {
  "kernelspec": {
   "display_name": "Python 3",
   "language": "python",
   "name": "python3"
  },
  "language_info": {
   "codemirror_mode": {
    "name": "ipython",
    "version": 3
   },
   "file_extension": ".py",
   "mimetype": "text/x-python",
   "name": "python",
   "nbconvert_exporter": "python",
   "pygments_lexer": "ipython3",
   "version": "3.6.3"
  }
 },
 "nbformat": 4,
 "nbformat_minor": 2
}
