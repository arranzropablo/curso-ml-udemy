{
 "cells": [
  {
   "cell_type": "markdown",
   "metadata": {},
   "source": [
    "Agrupación de datos similares y por tanto, separación de entradas de datos con nada que ver entre ellas en clusters diferentes.<br>\n",
    "El clustering se basa en agrupaciones por distancias entre puntos.<br>\n",
    "Existen varias maneras de calcular las distancias:"
   ]
  },
  {
   "cell_type": "markdown",
   "metadata": {},
   "source": [
    "### Distancia de Manhattan\n",
    "\n",
    "$$D_1(x_i, x_j) = |x_{i1} - x_{j1}| + |x_{i2} - x_{j2}| + ... + |x_{in} - x_{jn}| = \\sum^{n}_{k=1}|x_{ik} - x_{jk}|$$"
   ]
  },
  {
   "cell_type": "markdown",
   "metadata": {},
   "source": [
    "### Distancia euclídea\n",
    "\n",
    "$$D_2(x_i, x_j) = \\sqrt{(x_{i1} - x_{j1})^2 + (x_{i2} - x_{j2})^2 + ... + (x_{in} - x_{jn})^2} = \\sqrt{\\sum^{n}_{k=1}(x_{ik} - x_{jk})^2}$$"
   ]
  },
  {
   "cell_type": "markdown",
   "metadata": {},
   "source": [
    "### Distancia de Minkowski\n",
    "\n",
    "$$D_3(x_i, x_j) = \\sqrt[\\leftroot{-2}\\uproot{2}p]{(x_{i1} - x_{j1})^p + (x_{i2} - x_{j2})^p + ... + (x_{in} - x_{jn})^p} = \\sqrt[\\leftroot{-2}\\uproot{2}p]{\\sum^{n}_{k=1}(x_{ik} - x_{jk})^p}$$"
   ]
  },
  {
   "cell_type": "markdown",
   "metadata": {},
   "source": [
    "Con distance_matrix de scipy.spatial podemos calcular las distancias de Minkowski y euclídea (con p = 2)"
   ]
  },
  {
   "cell_type": "markdown",
   "metadata": {
    "collapsed": true
   },
   "source": [
    "Cuando tenemos variables con rangos muy diferentes... (por ejemplo una variable que puede estar en [0,50000] y otra que puede estar en [0,10]) la distancia se ve afectada.<br>\n",
    "Por este motivo deberíamos normalizar las variables:\n",
    "\n",
    "$$Z_{i,j} = \\frac{x_{ij} - min(x_{*j})}{max(x_{*j}) - min(x_{*j})}$$"
   ]
  },
  {
   "cell_type": "markdown",
   "metadata": {},
   "source": [
    "## Clustering jerárquico\n",
    "\n",
    "Agrupan o separan clusters.<br>\n",
    "* Aglomerativos (O ascendentes): Empieza el análisis con tantos clusters como puntos tenga el datasets y se van agrupando hasta quedar todos agrupados en un único cluster.\n",
    "* Disociativos (O descendentes): Todos los puntos comienzan en un único conglomerado y a partir de ahí se van formando grupos cada vez más pequeños hasta tener tantos clusters como puntos."
   ]
  },
  {
   "cell_type": "markdown",
   "metadata": {},
   "source": [
    "### Clustering aglomerativo\n",
    "\n",
    "1. Empezamos con N clusters (1 por observación)\n",
    "2. Creamos una matriz de distancias de tamaño NxN (dependiendo del método que queramos usar de una u otra manera)\n",
    "3. Encontramos la menor distancia en la matriz de distancias\n",
    "4. Unimos los dos clusters que decidamos\n",
    "5. Recalculamos las distancias \n",
    "\n",
    "#### Metodos para enlazar clusters\n",
    "\n",
    "##### Enlace simple\n",
    "La distancia entre dos clusters es el mínimo de las distancias entre dos puntos cualesquiera de ellos.\n",
    "\n",
    "$$ d(C_m, C_n) = min(d(x_i, x_j)) \\forall x_i \\in C_m, y_j \\in C_n$$\n",
    "\n",
    "##### Enlace completo\n",
    "La distancia entre dos clusters es el máximo de las distancias entre dos puntos cualesquiera de ellos.\n",
    "\n",
    "$$ d(C_m, C_n) = max(d(x_i, x_j)) \\forall x_i \\in C_m, y_j \\in C_n$$\n",
    "\n",
    "##### Enlace promedio\n",
    "La distancia entre dos clusters es el promedio de las distancias entre todas las combinaciones de puntos de ellos.\n",
    "\n",
    "$$ d(C_m, C_n) = mean(d(x_i, x_j)) \\forall x_i \\in C_m, y_j \\in C_n$$\n",
    "\n",
    "##### Enlace del centroide\n",
    "La distancia entre dos clusters es la distancia entre los centroides de ambos.\n",
    "\n",
    "$$ d(C_m, C_n) = d(\\overline{C_m}, \\overline{C_n})$$\n",
    "\n",
    "##### Enlace de Ward\n",
    "En cada etapa se unen los dos clusters que provoquen un menos incremento en el valor total de la suma de los cuadrados de las diferencias dentro de cada clúster.\n",
    "\n",
    "$$ min \\sum_{x_i \\in C_j}{(x_i - c_j)^2}$$"
   ]
  }
 ],
 "metadata": {
  "kernelspec": {
   "display_name": "Python 3",
   "language": "python",
   "name": "python3"
  },
  "language_info": {
   "codemirror_mode": {
    "name": "ipython",
    "version": 3
   },
   "file_extension": ".py",
   "mimetype": "text/x-python",
   "name": "python",
   "nbconvert_exporter": "python",
   "pygments_lexer": "ipython3",
   "version": "3.6.3"
  }
 },
 "nbformat": 4,
 "nbformat_minor": 2
}
