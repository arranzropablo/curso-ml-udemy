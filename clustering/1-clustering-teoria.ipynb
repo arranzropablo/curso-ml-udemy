{
 "cells": [
  {
   "cell_type": "markdown",
   "metadata": {},
   "source": [
    "Agrupación de datos similares y por tanto, separación de entradas de datos con nada que ver entre ellas en clusters diferentes.<br>\n",
    "El clustering se basa en agrupaciones por distancias entre puntos.<br>\n",
    "Existen varias maneras de calcular las distancias:"
   ]
  },
  {
   "cell_type": "markdown",
   "metadata": {},
   "source": [
    "### Distancia de Manhattan\n",
    "\n",
    "$$D_1(x_i, x_j) = |x_{i1} - x_{j1}| + |x_{i2} - x_{j2}| + ... + |x_{in} - x_{jn}| = \\sum^{n}_{k=1}|x_{ik} - x_{jk}|$$"
   ]
  },
  {
   "cell_type": "markdown",
   "metadata": {},
   "source": [
    "### Distancia euclídea\n",
    "\n",
    "$$D_2(x_i, x_j) = \\sqrt{(x_{i1} - x_{j1})^2 + (x_{i2} - x_{j2})^2 + ... + (x_{in} - x_{jn})^2} = \\sqrt{\\sum^{n}_{k=1}(x_{ik} - x_{jk})^2}$$"
   ]
  },
  {
   "cell_type": "markdown",
   "metadata": {},
   "source": [
    "### Distancia de Minkowski\n",
    "\n",
    "$$D_3(x_i, x_j) = \\sqrt[\\leftroot{-2}\\uproot{2}p]{(x_{i1} - x_{j1})^p + (x_{i2} - x_{j2})^p + ... + (x_{in} - x_{jn})^p} = \\sqrt[\\leftroot{-2}\\uproot{2}p]{\\sum^{n}_{k=1}(x_{ik} - x_{jk})^p}$$"
   ]
  },
  {
   "cell_type": "markdown",
   "metadata": {},
   "source": [
    "Con distance_matrix de scipy.spatial podemos calcular las distancias de Minkowski y euclídea (con p = 2)"
   ]
  },
  {
   "cell_type": "code",
   "execution_count": null,
   "metadata": {
    "collapsed": true
   },
   "outputs": [],
   "source": []
  }
 ],
 "metadata": {
  "kernelspec": {
   "display_name": "Python 3",
   "language": "python",
   "name": "python3"
  },
  "language_info": {
   "codemirror_mode": {
    "name": "ipython",
    "version": 3
   },
   "file_extension": ".py",
   "mimetype": "text/x-python",
   "name": "python",
   "nbconvert_exporter": "python",
   "pygments_lexer": "ipython3",
   "version": "3.6.3"
  }
 },
 "nbformat": 4,
 "nbformat_minor": 2
}
