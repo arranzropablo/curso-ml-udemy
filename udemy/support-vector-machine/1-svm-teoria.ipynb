{
 "cells": [
  {
   "cell_type": "markdown",
   "metadata": {},
   "source": [
    "# Support Vector Machines\n",
    "\n",
    "Separa las clases o puntos lo más ampliamente posible con un hiperplano definido por un vector entre dos puntos (vector de soporte).<br>\n",
    "En ocasiones no será posible emplear un hiperplano y serán otras figuras.<br>\n",
    "\n",
    "Sirve para clasificación n-aria.<br>\n",
    "\n",
    "Se trata de encontrar un hiperplano que (separando las dos clases) quede a la máxima distancia posible de todos los puntos.<br>\n",
    "Este hiperplano se llama hiperplano maximizador del margen."
   ]
  },
  {
   "cell_type": "markdown",
   "metadata": {},
   "source": [
    "## Explicación matemática\n",
    "\n",
    "Para el caso en el que exista una separabilidad lineal:\n",
    "Cualquier punto x que esté en el hiperplano separador H satisface:\n",
    "\n",
    "$$x^T\\omega + b = 0$$\n",
    "\n",
    "El producto escalar de dos vectores es 0 cuando los elementos son perpendiculares.<br>\n",
    "$\\omega$ es el vector normal al hiperplano y b es una constante que describe como ese plano está desplazado respecto al origen.<br>\n",
    "\n",
    "$$d(0,H) = \\frac{b}{\\vert\\vert\\omega\\vert\\vert}$$\n",
    "\n",
    "Podemos dibujar planos paralelos a cada lado del hiperplano separador a una distancia $d_+$ y $d_-$ que llegue hasta los puntos mas cercanos al hiperplano separador. De este modo:\n",
    "\n",
    "$$x^T_i\\omega + b \\geq +a\\ si\\ y_i=+1$$\n",
    "$$x^T_i\\omega + b \\leq -a\\ si\\ y_i=-1$$\n",
    "\n",
    "Juntas serían:\n",
    "\n",
    "$$y_i(x_i^T\\omega + b) \\geq a$$\n",
    "\n",
    "Siendo M el margen del corredor formado por los dos hiperplanos paralelos al hiperplano separador:\n",
    "\n",
    "$$M = d_+ + d_- = \\frac{2a}{\\vert\\vert\\omega\\vert\\vert}$$"
   ]
  },
  {
   "cell_type": "markdown",
   "metadata": {},
   "source": [
    "Comenzamos fijando la a = 1 para maximizar el margen del corredor y maximizaremos $ M =\\frac{1}{\\omega}$, o lo que es lo mismo, minimizaremos $f(\\omega) = \\frac{1}{2}\\vert\\vert\\omega\\vert\\vert^2$."
   ]
  }
 ],
 "metadata": {
  "kernelspec": {
   "display_name": "Python 3",
   "language": "python",
   "name": "python3"
  },
  "language_info": {
   "codemirror_mode": {
    "name": "ipython",
    "version": 3
   },
   "file_extension": ".py",
   "mimetype": "text/x-python",
   "name": "python",
   "nbconvert_exporter": "python",
   "pygments_lexer": "ipython3",
   "version": "3.6.3"
  }
 },
 "nbformat": 4,
 "nbformat_minor": 2
}
