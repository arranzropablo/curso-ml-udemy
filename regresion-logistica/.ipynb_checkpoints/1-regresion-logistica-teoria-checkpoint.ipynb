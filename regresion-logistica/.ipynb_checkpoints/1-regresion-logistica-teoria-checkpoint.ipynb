{
 "cells": [
  {
   "cell_type": "markdown",
   "metadata": {},
   "source": [
    "# Regresión Logística\n",
    "Clasifica las entradas en 2 o más categorías, por ejemplo:\n",
    "* Setas: Venenosa, no venenosa   --> 2 categorías.\n",
    "* Imagen de una letra: Qué letra --> 27 categorías.\n",
    "* Cliente y sus datos: Va a comprar o no nuestro producto --> 2 categorías."
   ]
  },
  {
   "cell_type": "markdown",
   "metadata": {},
   "source": [
    "La regresión logística utiliza la función sigmoide.<br>\n",
    "Si la regresión lineal utilizada la hipótesis: $y = \\alpha + \\beta x$ (lo que en clase llamaba $\\theta x$), la regresión logística utiliza la hipótesis:<br><br>\n",
    "$$y = \\frac{1}{1 + e^{-(\\alpha + \\beta x)}}$$\n",
    "<br>\n",
    "Las variables de entrada siguen pudiendo ser numéricas o categóricas.<br>\n",
    "La variable de salida es la probabilidad de pertenencia a cada categoría de salida."
   ]
  },
  {
   "cell_type": "markdown",
   "metadata": {},
   "source": [
    "### Las tablas de contingencia\n",
    "Representación de las frecuencias de caer en cada categoría."
   ]
  },
  {
   "cell_type": "code",
   "execution_count": 4,
   "metadata": {
    "collapsed": false
   },
   "outputs": [
    {
     "data": {
      "text/html": [
       "<div>\n",
       "<table border=\"1\" class=\"dataframe\">\n",
       "  <thead>\n",
       "    <tr style=\"text-align: right;\">\n",
       "      <th></th>\n",
       "      <th>Gender</th>\n",
       "      <th>Purchase</th>\n",
       "    </tr>\n",
       "  </thead>\n",
       "  <tbody>\n",
       "    <tr>\n",
       "      <th>0</th>\n",
       "      <td>Female</td>\n",
       "      <td>Yes</td>\n",
       "    </tr>\n",
       "    <tr>\n",
       "      <th>1</th>\n",
       "      <td>Female</td>\n",
       "      <td>Yes</td>\n",
       "    </tr>\n",
       "    <tr>\n",
       "      <th>2</th>\n",
       "      <td>Female</td>\n",
       "      <td>No</td>\n",
       "    </tr>\n",
       "    <tr>\n",
       "      <th>3</th>\n",
       "      <td>Male</td>\n",
       "      <td>No</td>\n",
       "    </tr>\n",
       "    <tr>\n",
       "      <th>4</th>\n",
       "      <td>Male</td>\n",
       "      <td>Yes</td>\n",
       "    </tr>\n",
       "  </tbody>\n",
       "</table>\n",
       "</div>"
      ],
      "text/plain": [
       "   Gender Purchase\n",
       "0  Female      Yes\n",
       "1  Female      Yes\n",
       "2  Female       No\n",
       "3    Male       No\n",
       "4    Male      Yes"
      ]
     },
     "execution_count": 4,
     "metadata": {},
     "output_type": "execute_result"
    }
   ],
   "source": [
    "import pandas as pd\n",
    "\n",
    "data = pd.read_csv(\"/Users/pabloarranzropero/workspace-python/curso-ml-udemy/datasets/gender-purchase/Gender Purchase.csv\")\n",
    "data.head()"
   ]
  },
  {
   "cell_type": "code",
   "execution_count": 9,
   "metadata": {
    "collapsed": false
   },
   "outputs": [
    {
     "data": {
      "text/html": [
       "<div>\n",
       "<table border=\"1\" class=\"dataframe\">\n",
       "  <thead>\n",
       "    <tr style=\"text-align: right;\">\n",
       "      <th>Purchase</th>\n",
       "      <th>No</th>\n",
       "      <th>Yes</th>\n",
       "    </tr>\n",
       "    <tr>\n",
       "      <th>Gender</th>\n",
       "      <th></th>\n",
       "      <th></th>\n",
       "    </tr>\n",
       "  </thead>\n",
       "  <tbody>\n",
       "    <tr>\n",
       "      <th>Female</th>\n",
       "      <td>106</td>\n",
       "      <td>159</td>\n",
       "    </tr>\n",
       "    <tr>\n",
       "      <th>Male</th>\n",
       "      <td>125</td>\n",
       "      <td>121</td>\n",
       "    </tr>\n",
       "  </tbody>\n",
       "</table>\n",
       "</div>"
      ],
      "text/plain": [
       "Purchase   No  Yes\n",
       "Gender            \n",
       "Female    106  159\n",
       "Male      125  121"
      ]
     },
     "execution_count": 9,
     "metadata": {},
     "output_type": "execute_result"
    }
   ],
   "source": [
    "cont_table = pd.crosstab(data[\"Gender\"], data[\"Purchase\"])\n",
    "cont_table"
   ]
  },
  {
   "cell_type": "code",
   "execution_count": 12,
   "metadata": {
    "collapsed": false
   },
   "outputs": [
    {
     "name": "stdout",
     "output_type": "stream",
     "text": [
      "Purchase\n",
      "No     231\n",
      "Yes    280\n",
      "dtype: int64\n",
      "Gender\n",
      "Female    265\n",
      "Male      246\n",
      "dtype: int64\n"
     ]
    }
   ],
   "source": [
    "print(cont_table.sum(axis = 0))\n",
    "print(cont_table.sum(axis = 1))"
   ]
  },
  {
   "cell_type": "code",
   "execution_count": 23,
   "metadata": {
    "collapsed": false
   },
   "outputs": [
    {
     "name": "stdout",
     "output_type": "stream",
     "text": [
      "Purchase       No      Yes\n",
      "Gender                    \n",
      "Female    0.40000  0.60000\n",
      "Male      0.50813  0.49187\n",
      "Purchase        No       Yes\n",
      "Gender                      \n",
      "Female    0.458874  0.567857\n",
      "Male      0.541126  0.432143\n"
     ]
    }
   ],
   "source": [
    "#la transformamos a float para que salgan divisiones reales, no enteras\n",
    "#el primer axis es 1 porque queremos la suma de columnas (i.e.: sumar cada fila) y el segundo 0 porque queremos la representación como filas\n",
    "print(cont_table.astype(float).div(cont_table.sum(axis = 1), axis = 0))\n",
    "#Se divide cada fila entre el total de esa fila\n",
    "\n",
    "print(cont_table.astype(float).div(cont_table.sum(axis = 0), axis = 1))"
   ]
  },
  {
   "cell_type": "markdown",
   "metadata": {},
   "source": [
    "### Probabilidad condicional\n",
    "\n",
    "Probabilidad de que ocurra un cierto suceso conociendo ciertos datos (Por ejemplo, que un cliente compre dependiendo de su género o al revés, conocer el género conociendo que ha comprado el producto)\n",
    "\n",
    "$$ P(Purchase=Yes/Gender=Hombre) = \\frac{Número\\ de\\ hombres\\ que\\ han\\ comprado}{Total\\ de\\ hombres} = \\frac{Male \\cap Purchase}{Male}$$\n",
    "(primera tabla)\n",
    "<br>\n",
    "$$ P(Gender=Mujer/Purchase=Yes) = \\frac{Número\\ de\\ mujeres\\ que\\ han\\ comprado}{Total\\ de\\ personas\\ que\\ han\\ comprado} = \\frac{Female \\cap Purchase}{Purchase}$$\n",
    "(segunda tabla)"
   ]
  },
  {
   "cell_type": "markdown",
   "metadata": {},
   "source": [
    "### Ratio de probabilidades\n",
    "Ratio de exitos para un grupo es el cociente de las probabilidades de exito entre la probabilidad de fracaso.\n",
    "\n",
    "$$odds_{purchase,male} = \\frac{P(Purchase/Hombre)}{1 - P(Purchase/Hombre)}$$\n",
    "\n",
    "No es un porcentaje ya que puede estar entre $[0,+\\infty]$, en caso de ser 1 es equiprobable, en caso de 0 mas probable lo de abajo y en caso de mas de 1, más probable lo de arriba."
   ]
  },
  {
   "cell_type": "code",
   "execution_count": 1,
   "metadata": {
    "collapsed": false
   },
   "outputs": [
    {
     "data": {
      "text/plain": [
       "0.9680003148800503"
      ]
     },
     "execution_count": 1,
     "metadata": {},
     "output_type": "execute_result"
    }
   ],
   "source": [
    "odds_purchase_male = 0.49187 / 0.50813 #121 / 125\n",
    "odds_purchase_male"
   ]
  }
 ],
 "metadata": {
  "kernelspec": {
   "display_name": "Python 3",
   "language": "python",
   "name": "python3"
  },
  "language_info": {
   "codemirror_mode": {
    "name": "ipython",
    "version": 3
   },
   "file_extension": ".py",
   "mimetype": "text/x-python",
   "name": "python",
   "nbconvert_exporter": "python",
   "pygments_lexer": "ipython3",
   "version": "3.6.3"
  }
 },
 "nbformat": 4,
 "nbformat_minor": 2
}
