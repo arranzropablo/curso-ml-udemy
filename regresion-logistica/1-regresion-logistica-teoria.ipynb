{
 "cells": [
  {
   "cell_type": "markdown",
   "metadata": {},
   "source": [
    "# Regresión Logística\n",
    "Clasifica las entradas en 2 o más categorías, por ejemplo:\n",
    "* Setas: Venenosa, no venenosa   --> 2 categorías.\n",
    "* Imagen de una letra: Qué letra --> 27 categorías.\n",
    "* Cliente y sus datos: Va a comprar o no nuestro producto --> 2 categorías."
   ]
  },
  {
   "cell_type": "markdown",
   "metadata": {},
   "source": [
    "La regresión logística utiliza la función sigmoide.<br>\n",
    "Si la regresión lineal utilizada la hipótesis: $y = \\alpha + \\beta x$ (lo que en clase llamaba $\\theta x$), la regresión logística utiliza la hipótesis:<br><br>\n",
    "$$y = \\frac{1}{1 + e^{-(\\alpha + \\beta x)}}$$\n",
    "<br>\n",
    "Las variables de entrada siguen pudiendo ser numéricas o categóricas.<br>\n",
    "La variable de salida es la probabilidad de pertenencia a cada categoría."
   ]
  }
 ],
 "metadata": {
  "kernelspec": {
   "display_name": "Python 3",
   "language": "python",
   "name": "python3"
  },
  "language_info": {
   "codemirror_mode": {
    "name": "ipython",
    "version": 3
   },
   "file_extension": ".py",
   "mimetype": "text/x-python",
   "name": "python",
   "nbconvert_exporter": "python",
   "pygments_lexer": "ipython3",
   "version": "3.6.3"
  }
 },
 "nbformat": 4,
 "nbformat_minor": 2
}
