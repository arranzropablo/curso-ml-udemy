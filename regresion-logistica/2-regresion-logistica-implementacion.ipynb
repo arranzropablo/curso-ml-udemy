{
 "cells": [
  {
   "cell_type": "markdown",
   "metadata": {},
   "source": [
    "# Implementación de la regresión logística con el método de la máxima verosimilitud\n",
    "\n",
    "## Definir la función de entorno $L(\\beta)$\n",
    "\n",
    "Recordamos que ya no hay $\\alpha$, sino $\\beta_0$\n",
    "\n",
    "$$L(\\alpha,\\beta) = \\prod^n_{i=1} P_i^{y_i} \\cdot (1 - P_i)^{1 - y_i}$$<br>"
   ]
  },
  {
   "cell_type": "code",
   "execution_count": 5,
   "metadata": {
    "collapsed": true
   },
   "outputs": [],
   "source": [
    "def likelihood(y, p):\n",
    "    totalprod = 1\n",
    "    for i in range(len(y)):\n",
    "        row = (p[i]**y[i])*((1 - p[i])**(1 - y[i]))\n",
    "        #también se puede hacer así:\n",
    "        #np.where(y[i] == 1, p[i], 1 - p[i])\n",
    "        totalprod = totalprod * row\n",
    "    return totalprod"
   ]
  },
  {
   "cell_type": "markdown",
   "metadata": {},
   "source": [
    "## Calcular las probabilidades para cada observación"
   ]
  },
  {
   "cell_type": "markdown",
   "metadata": {},
   "source": [
    "Las probabilidades se calculan con la función sigmoide:\n",
    "\n",
    "$$P(x_i) = \\frac{1}{1 + e^{-\\beta x_i}}$$"
   ]
  },
  {
   "cell_type": "code",
   "execution_count": 7,
   "metadata": {
    "collapsed": true
   },
   "outputs": [],
   "source": [
    "def probs(beta, X):\n",
    "    return 1/(1 + e**(-beta*X)) #1xn * nxm\n",
    "#seguramente no funcione y haya que pasar beta y X a matrices o algo así... o usar np.prod() para hacer el prod matricial..."
   ]
  },
  {
   "cell_type": "markdown",
   "metadata": {},
   "source": [
    "## Calcular la matriz diagonal W"
   ]
  },
  {
   "cell_type": "markdown",
   "metadata": {},
   "source": [
    "$$ W = diag(P_i \\cdot (1 - P_i))^n_{i=1} $$"
   ]
  },
  {
   "cell_type": "code",
   "execution_count": 14,
   "metadata": {
    "collapsed": false
   },
   "outputs": [],
   "source": [
    "def diagw(p):\n",
    "    import numpy as np\n",
    "    w = np.zeros(len(p) * len(p)).reshape(len(p), len(p))\n",
    "    for i in range(len(p)):\n",
    "        w[i,i] = (p[i] * (1 - p[i])).astype(float)\n",
    "    return w"
   ]
  },
  {
   "cell_type": "markdown",
   "metadata": {},
   "source": [
    "## Obtener los valores de theta\n",
    "Con el método de Newton-Raphson"
   ]
  },
  {
   "cell_type": "code",
   "execution_count": null,
   "metadata": {
    "collapsed": true
   },
   "outputs": [],
   "source": []
  }
 ],
 "metadata": {
  "kernelspec": {
   "display_name": "Python 3",
   "language": "python",
   "name": "python3"
  },
  "language_info": {
   "codemirror_mode": {
    "name": "ipython",
    "version": 3
   },
   "file_extension": ".py",
   "mimetype": "text/x-python",
   "name": "python",
   "nbconvert_exporter": "python",
   "pygments_lexer": "ipython3",
   "version": "3.6.3"
  }
 },
 "nbformat": 4,
 "nbformat_minor": 2
}
